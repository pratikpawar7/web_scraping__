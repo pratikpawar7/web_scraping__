{
 "cells": [
  {
   "cell_type": "code",
   "execution_count": null,
   "id": "ea98aefa-33d1-42c0-8e1a-29a99d7878b9",
   "metadata": {},
   "outputs": [],
   "source": [
    "Q1. What is Web Scraping? Why is it Used? Give three areas where Web Scraping is used to get data.\n",
    "Q2. What are the different methods used for Web Scraping?\n",
    "Q3. What is Beautiful Soup? Why is it used?\n",
    "Q4. Why is flask used in this Web Scraping project?\n",
    "Q5. Write the names of AWS services used in this project. Also, explain the use of each service."
   ]
  },
  {
   "cell_type": "code",
   "execution_count": null,
   "id": "8fec70b3-a99d-444b-8fa1-15a40c9ddf45",
   "metadata": {},
   "outputs": [],
   "source": []
  },
  {
   "cell_type": "code",
   "execution_count": null,
   "id": "e90ed9db-e881-4895-b019-a68398ea6f80",
   "metadata": {},
   "outputs": [],
   "source": [
    "'''\n",
    "Q1. What is Web Scraping? Why is it Used? Give three areas where Web Scraping is used to get data.\n",
    "'''\n",
    "web Scraping : \n",
    "    Web scraping is the process of extracting data from websites using software tools that automate the retrieval \n",
    "    and organization of information. Web scraping involves parsing the HTML or XML code of a webpage to extract the desired data,\n",
    "    which can then be stored in a structured format such as a spreadsheet or database.\n",
    "    \n",
    "use : \n",
    "    1.market research \n",
    "    2.data analysis \n",
    "    3.lead Genration \n",
    "    \n",
    "used in get data : \n",
    "        E-commerce: Web scraping is commonly used by e-commerce businesses to monitor product prices, \n",
    "                    competitor prices, and inventory levels.\n",
    "\n",
    "        Social Media: Web scraping can be used to collect data from social media platforms,\n",
    "                    such as tweets, posts, and comments, for sentiment analysis and other research purposes.\n",
    "\n",
    "        Real Estate: Web scraping can be used to collect data on real estate listings, \n",
    "                    such as property prices, location, and features, which can help real estate agents "
   ]
  },
  {
   "cell_type": "code",
   "execution_count": null,
   "id": "942972a1-a588-4ef0-bdf1-0b501106b6f5",
   "metadata": {},
   "outputs": [],
   "source": [
    "'''\n",
    "Q2. What are the different methods used for Web Scraping?\n",
    "'''\n",
    "\n",
    "There are several methods used for web scraping, including:\n",
    "\n",
    "using a Web Scraping Tool: There are many web scraping tools available, such as BeautifulSoup, Scrapy, and Selenium, \n",
    "                        that can automate the process of web scraping. These tools are designed to parse HTML\n",
    "    \n",
    "Writing Custom Code:  Web scraping can also be done by writing custom code in programming languages like Python, Ruby, and Java. \n",
    "\n",
    "Application Programming Interface (API) Access: Some websites provide an API that allows developers to access their data directly,\n",
    "                         without the need for web scraping. This method is usually faster \n",
    "\n",
    "Parsing Webpage Source Code:  In some cases, web scraping can be done by manually parsing the source code of a webpage using \n",
    "                    reglar expressions or other parsing techniques. \n",
    "                     However, this method is not recommended for complex web pages as it can be time-consuming and error-prone.\n",
    "\n",
    "Scraping as a Service: There are also web scraping services available that offer web scraping as a service.  \n",
    "                    These services allow users to specify the data they need"
   ]
  },
  {
   "cell_type": "code",
   "execution_count": null,
   "id": "64ecfe44-87dc-4c5c-b732-489d9413e919",
   "metadata": {},
   "outputs": [],
   "source": [
    "'''\n",
    "Q3. What is Beautiful Soup? Why is it used?\n",
    "'''\n",
    "use of Beautiful Soup : \n",
    "    Beautiful Soup is a Python library that is used for web scraping purposes. \n",
    "    It provides a set of functions for parsing HTML and XML documents, and extracting information from them\n",
    "    \n",
    "1.Parsing HTML and XML documents: Beautiful Soup allows developers to easily parse HTML and XML documents and \n",
    "                                extract the data they need. This saves a lot of time and effort\n",
    "\n",
    "2.Handling Broken HTML: Beautiful Soup can handle broken HTML documents and still extract data from them. \n",
    "                        It can correct errors in the HTML and make sense of the data.\n",
    "\n",
    "3.Navigating the Document Tree: Beautiful Soup makes it easy to navigate the document tree and extract specific\n",
    "                                data using CSS selectors or regular expressions.\n",
    "\n",
    "4.Integration with Other Libraries: Beautiful Soup integrates well with other Python libraries such as Pandas, Numpy, \n",
    "                        and Matplotlib, making it a powerful tool for data analysis and visualization."
   ]
  },
  {
   "cell_type": "code",
   "execution_count": null,
   "id": "aeaf4cb1-fa03-4d67-a70d-a1bce0371b6a",
   "metadata": {},
   "outputs": [],
   "source": [
    "'''\n",
    "Q4. Why is flask used in this Web Scraping project?\n",
    "'''\n",
    "use of Flask : \n",
    "    Flask is a web framework for Python that is used to build web applications, including web scraping projects.\n",
    "    Flask is a lightweight and flexible framework that allows developers to create web applications quickly and easily.\n",
    "\n",
    "Flask is used in web scraping projects for several reasons:\n",
    "\n",
    "1.Easy to Use: Flask is easy to use and requires minimal setup. It is ideal for small to medium-sized web scraping projects.\n",
    "\n",
    "2.Integration with Other Libraries: Flask integrates well with other Python libraries, including Beautiful Soup and Requests,\n",
    "    which are commonly used in web scraping projects.\n",
    "\n",
    "3.Routing and URL Handling: Flask provides a routing mechanism that allows developers to define URL endpoints \n",
    "    for their web scraping project. This makes it easy to handle different web pages and data sources.\n",
    "\n",
    "4.Template Rendering: Flask provides a templating engine that allows developers to generate dynamic HTML pages \n",
    "    based on the data extracted from web pages"
   ]
  },
  {
   "cell_type": "code",
   "execution_count": null,
   "id": "b0e593c9-9166-4982-9fc0-1bd4f7af7c97",
   "metadata": {},
   "outputs": [],
   "source": [
    "'''\n",
    "Q5. Write the names of AWS services used in this project. Also, explain the use of each service.\n",
    "'''\n"
   ]
  }
 ],
 "metadata": {
  "kernelspec": {
   "display_name": "Python 3 (ipykernel)",
   "language": "python",
   "name": "python3"
  },
  "language_info": {
   "codemirror_mode": {
    "name": "ipython",
    "version": 3
   },
   "file_extension": ".py",
   "mimetype": "text/x-python",
   "name": "python",
   "nbconvert_exporter": "python",
   "pygments_lexer": "ipython3",
   "version": "3.10.8"
  }
 },
 "nbformat": 4,
 "nbformat_minor": 5
}
